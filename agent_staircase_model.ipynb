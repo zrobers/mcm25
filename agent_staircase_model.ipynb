{
 "cells": [
  {
   "attachments": {},
   "cell_type": "markdown",
   "metadata": {},
   "source": [
    "# Agent Based Staircase Model\n",
    "\n",
    "## This notebook implements an agent-based approach to modeling the travel of people up and down a staircase simultaneously. \n",
    "\n",
    "Each agent has the following characteristics:\n",
    "- Age (years)\n",
    "- Sex (M/F)\n",
    "- Height (cm)\n",
    "- Weight (kg)\n",
    "- Group\n",
    "- Stepping Pattern (traditional: one footstep per stair, double: two footsteps per stair, skip: only step on every other stair)\n",
    "    - Sampled from a distribution dependent on the age, height, and weight of the agent\n",
    "- Intended Final Destination\n",
    "- Desired Velocity $v$ (m/s)\n",
    "- Ascending/Descending\n",
    "\n",
    "The following parameters are used to define the staircase domain:\n",
    "- The number of stairs $N$\n",
    "- The length of each step ${l}_{i = 1}^N $\n",
    "- The width of each step ${w}_{i=1}^N $\n",
    "\n",
    "It is assumed that the steps are continuous in that the length of the far edge must align with the length of the close edge of the next step and vice versa.\n",
    "\n",
    "Groups arrive at the staircase according to a Poisson Arrival Process. When a group arrives, the size of the group is sampled from a distribution and each of the members of the group are introduced into the model. \n",
    "\n",
    "The initial locations of the agents within the staircase are found by first introducing them in a horizonal arrangement (i.e. shoulder-to-shoulder) in an open space before the staircase subject to the same attracion and repulsions which govern movement within the staircase. This open space then narrows to match the dimensions of the fist stair, serving as a funnel. This enables the groups to form an inital arrangement on the staircase which resembles a natural group walking formation.\n",
    "\n",
    "Attractive Forces:\n",
    "- Desire to reach intended destination atop the staircase by following a linear trajectory (most efficient route between points a and b is a straight line)\n",
    "- Desire to maintain intended velocity\n",
    "- Desire to maintain a certain distance between group members\n",
    "- Desire to obey agreed upon social convention (walking on the right side vs left side)\n",
    "\n",
    "Repulsive Forces:\n",
    "- Desire not to get too close to other people \n",
    "    - the strength of this desire depends on whether the other agent is a member of one's group and the direction in which they are traversing (e.g. One would have a stronger desire to avoid contact with someone going in the opposite direction)\n",
    "\n",
    "These attractive and repulsive forces are then combined into a utility function which determines where the agent will step on the next stair in the $x$ dimension (along the width of the stair). \n",
    "\n",
    "The final output of this model is a dataset of simulated steps on each stair and their associated agent. These steps can easily be converted to represent the cumulative pressure placed on each stair over the time interval in which the simulation is run. With a long enough sample, we can then extrapolate to a larger time interval by assuming periodicity in the stepping patterns. \n"
   ]
  },
  {
   "cell_type": "code",
   "execution_count": 3,
   "metadata": {},
   "outputs": [],
   "source": [
    "# Imports\n",
    "import numpy as np"
   ]
  },
  {
   "attachments": {},
   "cell_type": "markdown",
   "metadata": {},
   "source": [
    "# Group Initialization\n",
    " - A Poisson Arrival Process dictates when the groups arrive ($\\lambda$ is a model parameter)\n",
    " - Group size is sample from a right-skewed distribution (this can be varried as a model parameter)\n",
    " - Agents are then created by placing the group in a horizontal formation inside the funnel either at the top or bottom of the staircase"
   ]
  },
  {
   "attachments": {},
   "cell_type": "markdown",
   "metadata": {},
   "source": [
    "## Agent Class"
   ]
  },
  {
   "cell_type": "code",
   "execution_count": null,
   "metadata": {},
   "outputs": [],
   "source": [
    "class StairAgent(Agent):\n",
    "    def __init__(self, unique_id, model, age, sex, height, weight, stepping_pattern, velocity, direction, group_id):\n",
    "        super().__init__(unique_id, model)\n",
    "        self.age = age\n",
    "        self.sex = sex\n",
    "        self.height = height\n",
    "        self.weight = weight\n",
    "        self.stepping_pattern = stepping_pattern\n",
    "        self.velocity = velocity\n",
    "        self.direction = direction\n",
    "        self.group_id = group_id\n",
    "        self.position = None  # To be initialized in open space \n",
    "\n",
    "    def step(self):\n",
    "        # Compute forces and update position\n",
    "        forces = self.calculate_forces()\n",
    "        self.position = self.update_position(forces)\n",
    "\n",
    "    \n",
    "    def calculate_forces(self):\n",
    "        # Calculate attractive and repulsive forces\n",
    "        # Example: destination force, velocity maintenance\n",
    "        return force \n",
    "\n",
    "    def update_position(self, forces):\n",
    "        # Update position based on forces\n",
    "        new_x = self.position[0] + forces[\"x_force\"]\n",
    "        new_y = self.position[1] + forces[\"y_force\"]\n",
    "        return (new_x, new_y)"
   ]
  },
  {
   "attachments": {},
   "cell_type": "markdown",
   "metadata": {},
   "source": [
    "## Domain\n",
    "\n",
    "Create the staircase domain"
   ]
  },
  {
   "cell_type": "code",
   "execution_count": null,
   "metadata": {},
   "outputs": [],
   "source": []
  },
  {
   "attachments": {},
   "cell_type": "markdown",
   "metadata": {},
   "source": [
    "## Model"
   ]
  },
  {
   "cell_type": "code",
   "execution_count": null,
   "metadata": {},
   "outputs": [],
   "source": [
    "from mesa import Agent, Model\n",
    "from mesa.space import ContinuousSpace\n",
    "from mesa.time import SimultaneousActivation\n",
    "import numpy as np\n",
    "\n",
    "# Define the Agent\n",
    "class StairAgent(Agent):\n",
    "    def __init__(self, unique_id, model, age, sex, height, weight, stepping_pattern, velocity, direction, group_id):\n",
    "        super().__init__(unique_id, model)\n",
    "        self.age = age\n",
    "        self.sex = sex\n",
    "        self.height = height\n",
    "        self.weight = weight\n",
    "        self.stepping_pattern = stepping_pattern\n",
    "        self.velocity = velocity\n",
    "        self.direction = direction\n",
    "        self.group_id = group_id\n",
    "        self.position = None  # To be initialized in the open space\n",
    "\n",
    "    def step(self):\n",
    "        # Compute forces and update position\n",
    "        forces = self.calculate_forces()\n",
    "        self.position = self.update_position(forces)\n",
    "\n",
    "    def calculate_forces(self):\n",
    "        # Calculate attractive and repulsive forces\n",
    "        # Example: destination force, velocity maintenance\n",
    "        return {\"x_force\": 0, \"y_force\": 0}\n",
    "\n",
    "    def update_position(self, forces):\n",
    "        # Update position based on forces\n",
    "        new_x = self.position[0] + forces[\"x_force\"]\n",
    "        new_y = self.position[1] + forces[\"y_force\"]\n",
    "        return (new_x, new_y)\n",
    "\n",
    "# Define the Model\n",
    "class StaircaseModel(Model):\n",
    "    def __init__(self, num_agents, num_stairs, stair_length, stair_width):\n",
    "        self.num_agents = num_agents\n",
    "        self.num_stairs = num_stairs\n",
    "        self.stair_length = stair_length\n",
    "        self.stair_width = stair_width\n",
    "        self.schedule = SimultaneousActivation(self)\n",
    "        self.space = ContinuousSpace(stair_length, stair_width, True)\n",
    "\n",
    "        # Initialize agents\n",
    "        for i in range(num_agents):\n",
    "            age = np.random.randint(10, 70)  # Example age distribution\n",
    "            sex = np.random.choice([\"M\", \"F\"])\n",
    "            height = np.random.normal(170, 10)\n",
    "            weight = np.random.normal(70, 15)\n",
    "            stepping_pattern = np.random.choice([\"traditional\", \"double\", \"skip\"])\n",
    "            velocity = np.random.uniform(0.5, 1.5)\n",
    "            direction = np.random.choice([\"ascending\", \"descending\"])\n",
    "            group_id = np.random.randint(0, 10)\n",
    "            agent = StairAgent(i, self, age, sex, height, weight, stepping_pattern, velocity, direction, group_id)\n",
    "            self.schedule.add(agent)\n",
    "            agent.position = self.space.place_agent(agent, (0, i * 2))  # Example initialization\n",
    "\n",
    "    def step(self):\n",
    "        self.schedule.step()\n",
    "\n",
    "# Run the model\n",
    "model = StaircaseModel(num_agents=100, num_stairs=10, stair_length=1.0, stair_width=1.0)\n",
    "for i in range(100):\n",
    "    model.step()\n"
   ]
  }
 ],
 "metadata": {
  "kernelspec": {
   "display_name": "Python 3",
   "language": "python",
   "name": "python3"
  },
  "language_info": {
   "codemirror_mode": {
    "name": "ipython",
    "version": 3
   },
   "file_extension": ".py",
   "mimetype": "text/x-python",
   "name": "python",
   "nbconvert_exporter": "python",
   "pygments_lexer": "ipython3",
   "version": "3.10.6"
  },
  "orig_nbformat": 4
 },
 "nbformat": 4,
 "nbformat_minor": 2
}
